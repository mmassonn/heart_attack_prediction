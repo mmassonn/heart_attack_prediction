{
  "nbformat": 4,
  "nbformat_minor": 0,
  "metadata": {
    "colab": {
      "name": "heart_attack_prediction_tuning.ipynb",
      "provenance": [],
      "collapsed_sections": [],
      "authorship_tag": "ABX9TyPGSXcAy7UKsnEisSjPsnty",
      "include_colab_link": true
    },
    "kernelspec": {
      "name": "python3",
      "display_name": "Python 3"
    },
    "language_info": {
      "name": "python"
    },
    "accelerator": "GPU"
  },
  "cells": [
    {
      "cell_type": "markdown",
      "metadata": {
        "id": "view-in-github",
        "colab_type": "text"
      },
      "source": [
        "<a href=\"https://colab.research.google.com/github/mmassonn/heart_attack_prediction/blob/main/heart_attack_prediction_tuning.ipynb\" target=\"_parent\"><img src=\"https://colab.research.google.com/assets/colab-badge.svg\" alt=\"Open In Colab\"/></a>"
      ]
    },
    {
      "cell_type": "markdown",
      "source": [
        "#Projet : Heart attack prediction\n"
      ],
      "metadata": {
        "id": "K3LOErIBmqzz"
      }
    },
    {
      "cell_type": "markdown",
      "source": [
        "##I. Définir l'objectif"
      ],
      "metadata": {
        "id": "ZkRltJ7ln75B"
      }
    },
    {
      "cell_type": "markdown",
      "source": [
        "Objectif : Prédiction du risque de développer une cardiopathie à partir des données cliniques\n",
        "\n",
        "metrique : F1 score"
      ],
      "metadata": {
        "id": "gFnr5xYinzgm"
      }
    },
    {
      "cell_type": "markdown",
      "source": [
        "##II. Importer les bibliothèques/framework"
      ],
      "metadata": {
        "id": "J9Qg48pzoJUl"
      }
    },
    {
      "cell_type": "code",
      "source": [
        "#import pre-processing packages\n",
        "import numpy as np\n",
        "import pandas as pd\n",
        "import matplotlib.pyplot as plt\n",
        "import seaborn as sns\n",
        "from sklearn.model_selection import train_test_split\n",
        "from sklearn.preprocessing import OneHotEncoder"
      ],
      "metadata": {
        "id": "yyINha3KnDPR"
      },
      "execution_count": 3,
      "outputs": []
    },
    {
      "cell_type": "code",
      "source": [
        "#import evaluation packages\n",
        "from sklearn.metrics import f1_score\n",
        "from sklearn.model_selection import learning_curve"
      ],
      "metadata": {
        "id": "Q0kzwTCsuIbd"
      },
      "execution_count": 4,
      "outputs": []
    },
    {
      "cell_type": "code",
      "execution_count": 5,
      "metadata": {
        "id": "MmINcNOPsJy-",
        "colab": {
          "base_uri": "https://localhost:8080/"
        },
        "outputId": "040c5661-740c-40ec-c984-f8705891e245"
      },
      "outputs": [
        {
          "output_type": "stream",
          "name": "stdout",
          "text": [
            "Mounted at /content/drive\n"
          ]
        }
      ],
      "source": [
        "#Connect drive\n",
        "from google.colab import drive\n",
        "drive.mount('/content/drive')"
      ]
    },
    {
      "cell_type": "markdown",
      "source": [
        "##III. Load data"
      ],
      "metadata": {
        "id": "Bbj9iTcxoglC"
      }
    },
    {
      "cell_type": "code",
      "source": [
        "#load data\n",
        "df = pd.read_csv('drive/MyDrive/Projet_2022/heart_attack_prediction/dataset.csv')"
      ],
      "metadata": {
        "id": "l9FoPA8CowX3"
      },
      "execution_count": 6,
      "outputs": []
    },
    {
      "cell_type": "code",
      "source": [
        "df.head()"
      ],
      "metadata": {
        "colab": {
          "base_uri": "https://localhost:8080/",
          "height": 206
        },
        "id": "8jlMaR7JQxlx",
        "outputId": "8e5c6629-89fd-43bd-dafd-058241760c48"
      },
      "execution_count": 7,
      "outputs": [
        {
          "output_type": "execute_result",
          "data": {
            "text/plain": [
              "   Age Sex ChestPainType  RestingBP  Cholesterol  FastingBS RestingECG  MaxHR  \\\n",
              "0   40   M           ATA        140          289          0     Normal    172   \n",
              "1   49   F           NAP        160          180          0     Normal    156   \n",
              "2   37   M           ATA        130          283          0         ST     98   \n",
              "3   48   F           ASY        138          214          0     Normal    108   \n",
              "4   54   M           NAP        150          195          0     Normal    122   \n",
              "\n",
              "  ExerciseAngina  Oldpeak ST_Slope  HeartDisease  \n",
              "0              N      0.0       Up             0  \n",
              "1              N      1.0     Flat             1  \n",
              "2              N      0.0       Up             0  \n",
              "3              Y      1.5     Flat             1  \n",
              "4              N      0.0       Up             0  "
            ],
            "text/html": [
              "\n",
              "  <div id=\"df-15e62f8d-a351-4356-8389-83b5dc317d04\">\n",
              "    <div class=\"colab-df-container\">\n",
              "      <div>\n",
              "<style scoped>\n",
              "    .dataframe tbody tr th:only-of-type {\n",
              "        vertical-align: middle;\n",
              "    }\n",
              "\n",
              "    .dataframe tbody tr th {\n",
              "        vertical-align: top;\n",
              "    }\n",
              "\n",
              "    .dataframe thead th {\n",
              "        text-align: right;\n",
              "    }\n",
              "</style>\n",
              "<table border=\"1\" class=\"dataframe\">\n",
              "  <thead>\n",
              "    <tr style=\"text-align: right;\">\n",
              "      <th></th>\n",
              "      <th>Age</th>\n",
              "      <th>Sex</th>\n",
              "      <th>ChestPainType</th>\n",
              "      <th>RestingBP</th>\n",
              "      <th>Cholesterol</th>\n",
              "      <th>FastingBS</th>\n",
              "      <th>RestingECG</th>\n",
              "      <th>MaxHR</th>\n",
              "      <th>ExerciseAngina</th>\n",
              "      <th>Oldpeak</th>\n",
              "      <th>ST_Slope</th>\n",
              "      <th>HeartDisease</th>\n",
              "    </tr>\n",
              "  </thead>\n",
              "  <tbody>\n",
              "    <tr>\n",
              "      <th>0</th>\n",
              "      <td>40</td>\n",
              "      <td>M</td>\n",
              "      <td>ATA</td>\n",
              "      <td>140</td>\n",
              "      <td>289</td>\n",
              "      <td>0</td>\n",
              "      <td>Normal</td>\n",
              "      <td>172</td>\n",
              "      <td>N</td>\n",
              "      <td>0.0</td>\n",
              "      <td>Up</td>\n",
              "      <td>0</td>\n",
              "    </tr>\n",
              "    <tr>\n",
              "      <th>1</th>\n",
              "      <td>49</td>\n",
              "      <td>F</td>\n",
              "      <td>NAP</td>\n",
              "      <td>160</td>\n",
              "      <td>180</td>\n",
              "      <td>0</td>\n",
              "      <td>Normal</td>\n",
              "      <td>156</td>\n",
              "      <td>N</td>\n",
              "      <td>1.0</td>\n",
              "      <td>Flat</td>\n",
              "      <td>1</td>\n",
              "    </tr>\n",
              "    <tr>\n",
              "      <th>2</th>\n",
              "      <td>37</td>\n",
              "      <td>M</td>\n",
              "      <td>ATA</td>\n",
              "      <td>130</td>\n",
              "      <td>283</td>\n",
              "      <td>0</td>\n",
              "      <td>ST</td>\n",
              "      <td>98</td>\n",
              "      <td>N</td>\n",
              "      <td>0.0</td>\n",
              "      <td>Up</td>\n",
              "      <td>0</td>\n",
              "    </tr>\n",
              "    <tr>\n",
              "      <th>3</th>\n",
              "      <td>48</td>\n",
              "      <td>F</td>\n",
              "      <td>ASY</td>\n",
              "      <td>138</td>\n",
              "      <td>214</td>\n",
              "      <td>0</td>\n",
              "      <td>Normal</td>\n",
              "      <td>108</td>\n",
              "      <td>Y</td>\n",
              "      <td>1.5</td>\n",
              "      <td>Flat</td>\n",
              "      <td>1</td>\n",
              "    </tr>\n",
              "    <tr>\n",
              "      <th>4</th>\n",
              "      <td>54</td>\n",
              "      <td>M</td>\n",
              "      <td>NAP</td>\n",
              "      <td>150</td>\n",
              "      <td>195</td>\n",
              "      <td>0</td>\n",
              "      <td>Normal</td>\n",
              "      <td>122</td>\n",
              "      <td>N</td>\n",
              "      <td>0.0</td>\n",
              "      <td>Up</td>\n",
              "      <td>0</td>\n",
              "    </tr>\n",
              "  </tbody>\n",
              "</table>\n",
              "</div>\n",
              "      <button class=\"colab-df-convert\" onclick=\"convertToInteractive('df-15e62f8d-a351-4356-8389-83b5dc317d04')\"\n",
              "              title=\"Convert this dataframe to an interactive table.\"\n",
              "              style=\"display:none;\">\n",
              "        \n",
              "  <svg xmlns=\"http://www.w3.org/2000/svg\" height=\"24px\"viewBox=\"0 0 24 24\"\n",
              "       width=\"24px\">\n",
              "    <path d=\"M0 0h24v24H0V0z\" fill=\"none\"/>\n",
              "    <path d=\"M18.56 5.44l.94 2.06.94-2.06 2.06-.94-2.06-.94-.94-2.06-.94 2.06-2.06.94zm-11 1L8.5 8.5l.94-2.06 2.06-.94-2.06-.94L8.5 2.5l-.94 2.06-2.06.94zm10 10l.94 2.06.94-2.06 2.06-.94-2.06-.94-.94-2.06-.94 2.06-2.06.94z\"/><path d=\"M17.41 7.96l-1.37-1.37c-.4-.4-.92-.59-1.43-.59-.52 0-1.04.2-1.43.59L10.3 9.45l-7.72 7.72c-.78.78-.78 2.05 0 2.83L4 21.41c.39.39.9.59 1.41.59.51 0 1.02-.2 1.41-.59l7.78-7.78 2.81-2.81c.8-.78.8-2.07 0-2.86zM5.41 20L4 18.59l7.72-7.72 1.47 1.35L5.41 20z\"/>\n",
              "  </svg>\n",
              "      </button>\n",
              "      \n",
              "  <style>\n",
              "    .colab-df-container {\n",
              "      display:flex;\n",
              "      flex-wrap:wrap;\n",
              "      gap: 12px;\n",
              "    }\n",
              "\n",
              "    .colab-df-convert {\n",
              "      background-color: #E8F0FE;\n",
              "      border: none;\n",
              "      border-radius: 50%;\n",
              "      cursor: pointer;\n",
              "      display: none;\n",
              "      fill: #1967D2;\n",
              "      height: 32px;\n",
              "      padding: 0 0 0 0;\n",
              "      width: 32px;\n",
              "    }\n",
              "\n",
              "    .colab-df-convert:hover {\n",
              "      background-color: #E2EBFA;\n",
              "      box-shadow: 0px 1px 2px rgba(60, 64, 67, 0.3), 0px 1px 3px 1px rgba(60, 64, 67, 0.15);\n",
              "      fill: #174EA6;\n",
              "    }\n",
              "\n",
              "    [theme=dark] .colab-df-convert {\n",
              "      background-color: #3B4455;\n",
              "      fill: #D2E3FC;\n",
              "    }\n",
              "\n",
              "    [theme=dark] .colab-df-convert:hover {\n",
              "      background-color: #434B5C;\n",
              "      box-shadow: 0px 1px 3px 1px rgba(0, 0, 0, 0.15);\n",
              "      filter: drop-shadow(0px 1px 2px rgba(0, 0, 0, 0.3));\n",
              "      fill: #FFFFFF;\n",
              "    }\n",
              "  </style>\n",
              "\n",
              "      <script>\n",
              "        const buttonEl =\n",
              "          document.querySelector('#df-15e62f8d-a351-4356-8389-83b5dc317d04 button.colab-df-convert');\n",
              "        buttonEl.style.display =\n",
              "          google.colab.kernel.accessAllowed ? 'block' : 'none';\n",
              "\n",
              "        async function convertToInteractive(key) {\n",
              "          const element = document.querySelector('#df-15e62f8d-a351-4356-8389-83b5dc317d04');\n",
              "          const dataTable =\n",
              "            await google.colab.kernel.invokeFunction('convertToInteractive',\n",
              "                                                     [key], {});\n",
              "          if (!dataTable) return;\n",
              "\n",
              "          const docLinkHtml = 'Like what you see? Visit the ' +\n",
              "            '<a target=\"_blank\" href=https://colab.research.google.com/notebooks/data_table.ipynb>data table notebook</a>'\n",
              "            + ' to learn more about interactive tables.';\n",
              "          element.innerHTML = '';\n",
              "          dataTable['output_type'] = 'display_data';\n",
              "          await google.colab.output.renderOutput(dataTable, element);\n",
              "          const docLink = document.createElement('div');\n",
              "          docLink.innerHTML = docLinkHtml;\n",
              "          element.appendChild(docLink);\n",
              "        }\n",
              "      </script>\n",
              "    </div>\n",
              "  </div>\n",
              "  "
            ]
          },
          "metadata": {},
          "execution_count": 7
        }
      ]
    },
    {
      "cell_type": "markdown",
      "source": [
        "#IV. Pre-processing"
      ],
      "metadata": {
        "id": "tFveuHKjqnje"
      }
    },
    {
      "cell_type": "code",
      "source": [
        "#remove Cholesterol column\n",
        "df = df.drop('Cholesterol', axis=1) "
      ],
      "metadata": {
        "id": "9wIj6Jx9QtHw"
      },
      "execution_count": 8,
      "outputs": []
    },
    {
      "cell_type": "markdown",
      "source": [
        "##1.Diviser la base de donnée"
      ],
      "metadata": {
        "id": "lJycRpC6SuLb"
      }
    },
    {
      "cell_type": "code",
      "source": [
        "#split Train and Test set  \n",
        "train_set, test_set = train_test_split(df, test_size=0.2, random_state=0)"
      ],
      "metadata": {
        "id": "G7SIL-9hqzxv"
      },
      "execution_count": 9,
      "outputs": []
    },
    {
      "cell_type": "markdown",
      "source": [
        "##2.Répartition des différentes variables"
      ],
      "metadata": {
        "id": "YwKqAWTPTG9z"
      }
    },
    {
      "cell_type": "markdown",
      "source": [
        "###HeartDisease"
      ],
      "metadata": {
        "id": "xYRMxNLGTSgy"
      }
    },
    {
      "cell_type": "code",
      "source": [
        "train_set['HeartDisease'].value_counts(normalize = True)"
      ],
      "metadata": {
        "id": "t0Mf4oCoq1gI",
        "colab": {
          "base_uri": "https://localhost:8080/"
        },
        "outputId": "05ee2c0f-0a20-49b0-ddb0-b327317bd3f3"
      },
      "execution_count": 10,
      "outputs": [
        {
          "output_type": "execute_result",
          "data": {
            "text/plain": [
              "1    0.546322\n",
              "0    0.453678\n",
              "Name: HeartDisease, dtype: float64"
            ]
          },
          "metadata": {},
          "execution_count": 10
        }
      ]
    },
    {
      "cell_type": "code",
      "source": [
        "test_set['HeartDisease'].value_counts(normalize = True)"
      ],
      "metadata": {
        "colab": {
          "base_uri": "https://localhost:8080/"
        },
        "id": "U-gmTOkjSRrM",
        "outputId": "698d0bf5-654d-4d75-83b9-70380feb0952"
      },
      "execution_count": null,
      "outputs": [
        {
          "output_type": "execute_result",
          "data": {
            "text/plain": [
              "1    0.581522\n",
              "0    0.418478\n",
              "Name: HeartDisease, dtype: float64"
            ]
          },
          "metadata": {},
          "execution_count": 140
        }
      ]
    },
    {
      "cell_type": "markdown",
      "source": [
        "###Sex"
      ],
      "metadata": {
        "id": "9rJjPzp9Tctm"
      }
    },
    {
      "cell_type": "code",
      "source": [
        "train_set['Sex'].value_counts(normalize = True)"
      ],
      "metadata": {
        "colab": {
          "base_uri": "https://localhost:8080/"
        },
        "id": "jp7U-5CXT3io",
        "outputId": "851c2e3f-6a53-461a-d1c6-22296d8d4229"
      },
      "execution_count": null,
      "outputs": [
        {
          "output_type": "execute_result",
          "data": {
            "text/plain": [
              "M    0.788828\n",
              "F    0.211172\n",
              "Name: Sex, dtype: float64"
            ]
          },
          "metadata": {},
          "execution_count": 141
        }
      ]
    },
    {
      "cell_type": "code",
      "source": [
        "test_set['Sex'].value_counts(normalize = True)"
      ],
      "metadata": {
        "colab": {
          "base_uri": "https://localhost:8080/"
        },
        "id": "m2dSgNs3T4Ff",
        "outputId": "423025fc-5f4b-4199-e17b-89d324ece8b1"
      },
      "execution_count": null,
      "outputs": [
        {
          "output_type": "execute_result",
          "data": {
            "text/plain": [
              "M    0.793478\n",
              "F    0.206522\n",
              "Name: Sex, dtype: float64"
            ]
          },
          "metadata": {},
          "execution_count": 142
        }
      ]
    },
    {
      "cell_type": "markdown",
      "source": [
        "###ChestPainType"
      ],
      "metadata": {
        "id": "7LfqwLq6Tdi_"
      }
    },
    {
      "cell_type": "code",
      "source": [
        "train_set['ChestPainType'].value_counts(normalize = True)"
      ],
      "metadata": {
        "colab": {
          "base_uri": "https://localhost:8080/"
        },
        "id": "hzaYX1KNT5CH",
        "outputId": "1879c952-95c3-423c-a1a8-52e1c44586ae"
      },
      "execution_count": null,
      "outputs": [
        {
          "output_type": "execute_result",
          "data": {
            "text/plain": [
              "ASY    0.532698\n",
              "NAP    0.220708\n",
              "ATA    0.197548\n",
              "TA     0.049046\n",
              "Name: ChestPainType, dtype: float64"
            ]
          },
          "metadata": {},
          "execution_count": 143
        }
      ]
    },
    {
      "cell_type": "code",
      "source": [
        "test_set['ChestPainType'].value_counts(normalize = True)"
      ],
      "metadata": {
        "colab": {
          "base_uri": "https://localhost:8080/"
        },
        "id": "XF9P7n-2T5iE",
        "outputId": "502496c3-07dc-42e7-b296-c1a009f297e7"
      },
      "execution_count": null,
      "outputs": [
        {
          "output_type": "execute_result",
          "data": {
            "text/plain": [
              "ASY    0.570652\n",
              "NAP    0.222826\n",
              "ATA    0.152174\n",
              "TA     0.054348\n",
              "Name: ChestPainType, dtype: float64"
            ]
          },
          "metadata": {},
          "execution_count": 144
        }
      ]
    },
    {
      "cell_type": "markdown",
      "source": [
        "###FastingBS"
      ],
      "metadata": {
        "id": "3yyThx1DTeLm"
      }
    },
    {
      "cell_type": "code",
      "source": [
        "train_set['FastingBS'].value_counts(normalize = True)"
      ],
      "metadata": {
        "colab": {
          "base_uri": "https://localhost:8080/"
        },
        "id": "rhVkX2maT6N8",
        "outputId": "fddbe5e0-a980-481f-ff0a-77f686b0ad81"
      },
      "execution_count": null,
      "outputs": [
        {
          "output_type": "execute_result",
          "data": {
            "text/plain": [
              "0    0.782016\n",
              "1    0.217984\n",
              "Name: FastingBS, dtype: float64"
            ]
          },
          "metadata": {},
          "execution_count": 145
        }
      ]
    },
    {
      "cell_type": "code",
      "source": [
        "test_set['FastingBS'].value_counts(normalize = True)"
      ],
      "metadata": {
        "colab": {
          "base_uri": "https://localhost:8080/"
        },
        "id": "rSw1EHUQT6ft",
        "outputId": "d8a32ef8-3abc-4cbf-d760-cb5658c2af6f"
      },
      "execution_count": null,
      "outputs": [
        {
          "output_type": "execute_result",
          "data": {
            "text/plain": [
              "0    0.706522\n",
              "1    0.293478\n",
              "Name: FastingBS, dtype: float64"
            ]
          },
          "metadata": {},
          "execution_count": 146
        }
      ]
    },
    {
      "cell_type": "markdown",
      "source": [
        "###RestingECG"
      ],
      "metadata": {
        "id": "EJ13sircTevD"
      }
    },
    {
      "cell_type": "code",
      "source": [
        "train_set['RestingECG'].value_counts(normalize = True)"
      ],
      "metadata": {
        "colab": {
          "base_uri": "https://localhost:8080/"
        },
        "id": "RjuFOCnFT7En",
        "outputId": "388a1f7d-9ef8-4ab0-ce96-3cbdea9c30ca"
      },
      "execution_count": null,
      "outputs": [
        {
          "output_type": "execute_result",
          "data": {
            "text/plain": [
              "Normal    0.606267\n",
              "ST        0.197548\n",
              "LVH       0.196185\n",
              "Name: RestingECG, dtype: float64"
            ]
          },
          "metadata": {},
          "execution_count": 147
        }
      ]
    },
    {
      "cell_type": "code",
      "source": [
        "test_set['RestingECG'].value_counts(normalize = True)"
      ],
      "metadata": {
        "colab": {
          "base_uri": "https://localhost:8080/"
        },
        "id": "U7hApKXIT7ZD",
        "outputId": "31249d00-9b98-41c2-c1bf-28382bb4e494"
      },
      "execution_count": null,
      "outputs": [
        {
          "output_type": "execute_result",
          "data": {
            "text/plain": [
              "Normal    0.581522\n",
              "LVH       0.239130\n",
              "ST        0.179348\n",
              "Name: RestingECG, dtype: float64"
            ]
          },
          "metadata": {},
          "execution_count": 148
        }
      ]
    },
    {
      "cell_type": "markdown",
      "source": [
        "###ExerciseAngina"
      ],
      "metadata": {
        "id": "s2PMR7vpTfOq"
      }
    },
    {
      "cell_type": "code",
      "source": [
        "train_set['ExerciseAngina'].value_counts(normalize = True)"
      ],
      "metadata": {
        "colab": {
          "base_uri": "https://localhost:8080/"
        },
        "id": "lebblaslT75f",
        "outputId": "ce18e451-bd25-4c1d-be5a-949e6318b56f"
      },
      "execution_count": null,
      "outputs": [
        {
          "output_type": "execute_result",
          "data": {
            "text/plain": [
              "N    0.589918\n",
              "Y    0.410082\n",
              "Name: ExerciseAngina, dtype: float64"
            ]
          },
          "metadata": {},
          "execution_count": 149
        }
      ]
    },
    {
      "cell_type": "code",
      "source": [
        "test_set['ExerciseAngina'].value_counts(normalize = True)"
      ],
      "metadata": {
        "colab": {
          "base_uri": "https://localhost:8080/"
        },
        "id": "tEkhIixgT8Qe",
        "outputId": "7c781f69-33d1-4719-fbe1-a17ed43dfc27"
      },
      "execution_count": null,
      "outputs": [
        {
          "output_type": "execute_result",
          "data": {
            "text/plain": [
              "N    0.619565\n",
              "Y    0.380435\n",
              "Name: ExerciseAngina, dtype: float64"
            ]
          },
          "metadata": {},
          "execution_count": 150
        }
      ]
    },
    {
      "cell_type": "markdown",
      "source": [
        "###ST_Slope"
      ],
      "metadata": {
        "id": "hR5EPKP2TgYf"
      }
    },
    {
      "cell_type": "code",
      "source": [
        "train_set['ST_Slope'].value_counts(normalize = True)"
      ],
      "metadata": {
        "colab": {
          "base_uri": "https://localhost:8080/"
        },
        "id": "-_14BS3aUNP1",
        "outputId": "d78ddd9b-c077-4175-f078-93aa3207f189"
      },
      "execution_count": null,
      "outputs": [
        {
          "output_type": "execute_result",
          "data": {
            "text/plain": [
              "Flat    0.495913\n",
              "Up      0.433243\n",
              "Down    0.070845\n",
              "Name: ST_Slope, dtype: float64"
            ]
          },
          "metadata": {},
          "execution_count": 151
        }
      ]
    },
    {
      "cell_type": "code",
      "source": [
        "test_set['ST_Slope'].value_counts(normalize = True)"
      ],
      "metadata": {
        "colab": {
          "base_uri": "https://localhost:8080/"
        },
        "id": "5cKndnP5UNBP",
        "outputId": "3a7813bd-203f-4761-d510-ee46b22c819f"
      },
      "execution_count": null,
      "outputs": [
        {
          "output_type": "execute_result",
          "data": {
            "text/plain": [
              "Flat    0.521739\n",
              "Up      0.418478\n",
              "Down    0.059783\n",
              "Name: ST_Slope, dtype: float64"
            ]
          },
          "metadata": {},
          "execution_count": 152
        }
      ]
    },
    {
      "cell_type": "markdown",
      "source": [
        "**Conclusion :** La répartition des différentes variables est homogène."
      ],
      "metadata": {
        "id": "K6buG5D8UqsW"
      }
    },
    {
      "cell_type": "markdown",
      "source": [
        "##3.Normalisation des variables"
      ],
      "metadata": {
        "id": "PxS5sG4pVKcR"
      }
    },
    {
      "cell_type": "markdown",
      "source": [
        "###a.Normalisation standard des variables quantitatives"
      ],
      "metadata": {
        "id": "0B_yfI-KWPUA"
      }
    },
    {
      "cell_type": "code",
      "source": [
        "#normalisazion\n",
        "def make_standard_normal(df):\n",
        "    df = df[['Age', 'RestingBP', 'MaxHR', 'Oldpeak']]\n",
        "    #calculate the mean and standard deviation of the training set\n",
        "    mean = df.mean(axis = 0)\n",
        "    stdev = df.std(axis = 0)\n",
        "    # standardize the training set\n",
        "    df = (df-mean)/stdev\n",
        "    return df"
      ],
      "metadata": {
        "id": "g13CMamYXUhD"
      },
      "execution_count": 11,
      "outputs": []
    },
    {
      "cell_type": "markdown",
      "source": [
        "###b.Encodage des variables quantitatives"
      ],
      "metadata": {
        "id": "7xbxm0H_W7JP"
      }
    },
    {
      "cell_type": "code",
      "source": [
        "#encodage function\n",
        "def encodage_function(df):\n",
        "  df = df[['Sex', 'ChestPainType', 'FastingBS', 'RestingECG', 'ExerciseAngina', 'ST_Slope']]\n",
        "  qualitative_cols = ['Sex', 'ChestPainType', 'FastingBS', 'RestingECG', 'ExerciseAngina', 'ST_Slope']\n",
        "  df = pd.get_dummies(df, columns=qualitative_cols)\n",
        "  return df"
      ],
      "metadata": {
        "id": "OWnDk1UnX0kQ"
      },
      "execution_count": 12,
      "outputs": []
    },
    {
      "cell_type": "markdown",
      "source": [
        "###c.Fonction pré-processing"
      ],
      "metadata": {
        "id": "RnFJLF33XKzH"
      }
    },
    {
      "cell_type": "code",
      "source": [
        "#defined pre-processing    \n",
        "def preprocessing(df):\n",
        "  df1 = make_standard_normal(df)\n",
        "  df2 = encodage_function(df)\n",
        "  Y = df[['HeartDisease']] \n",
        "  X = pd.concat([df1, df2], axis=1)\n",
        "  return X,Y"
      ],
      "metadata": {
        "id": "YGaOByatq5Ff"
      },
      "execution_count": 13,
      "outputs": []
    },
    {
      "cell_type": "code",
      "source": [
        "#applied pre-processing\n",
        "X_train, y_train = preprocessing(train_set)\n",
        "X_test, y_test = preprocessing(test_set)"
      ],
      "metadata": {
        "id": "I8D22uLeq7zj"
      },
      "execution_count": 14,
      "outputs": []
    },
    {
      "cell_type": "markdown",
      "source": [
        "#V. Modelling"
      ],
      "metadata": {
        "id": "cLDdC_yRq8ne"
      }
    },
    {
      "cell_type": "markdown",
      "source": [
        "###1.Bagging"
      ],
      "metadata": {
        "id": "H2cEvDJgrLJJ"
      }
    },
    {
      "cell_type": "code",
      "source": [
        "from sklearn.ensemble import RandomForestClassifier"
      ],
      "metadata": {
        "id": "6bprcbggrYGZ"
      },
      "execution_count": 15,
      "outputs": []
    },
    {
      "cell_type": "code",
      "source": [
        "model = RandomForestClassifier(n_estimators=100)\n",
        "\n",
        "model.fit(X_train, y_train.values.ravel())\n",
        "y_preds = model.predict(X_test)\n",
        "\n",
        "print('F1 Score - RandomForestClassifier:', f1_score(y_test, y_preds)) "
      ],
      "metadata": {
        "colab": {
          "base_uri": "https://localhost:8080/"
        },
        "id": "SqQC_WD4rhuG",
        "outputId": "06e46e9a-cafb-4ae6-c0c3-e41f9cacb11d"
      },
      "execution_count": 16,
      "outputs": [
        {
          "output_type": "stream",
          "name": "stdout",
          "text": [
            "F1 Score - RandomForestClassifier: 0.8755760368663594\n"
          ]
        }
      ]
    },
    {
      "cell_type": "markdown",
      "source": [
        "###2.Tuner les hyperparmètres"
      ],
      "metadata": {
        "id": "UtrKg7C4MerY"
      }
    },
    {
      "cell_type": "markdown",
      "source": [
        "Adaboost peut être parfois difficile à régler car il se compose de nombreux **hyperparamètres**. \n",
        "\n",
        "L'utilisation de **GridSearchCV** est toujours une approche intelligente. Les processus de recherche populaires incluent une recherche aléatoire et une recherche par grille.\n",
        "\n",
        "Dans mon cas, je recherche par grille deux hyperparamètres clés pour AdaBoost : le nombre d'arbres utilisés dans l'ensemble et le taux d'apprentissage. J'utilise une gamme de valeurs populaires performantes pour chaque hyperparamètre.\n",
        "\n",
        "\n",
        "Chaque combinaison de configuration sera évaluée à l'aide d'une validation croisée répétée k-fold et les configurations seront comparées à l'aide du score moyen, dans ce cas, le score f1."
      ],
      "metadata": {
        "id": "1o_am9x7Mg8d"
      }
    },
    {
      "cell_type": "markdown",
      "source": [
        "**Rechercher les meilleurs hyperparamètres**"
      ],
      "metadata": {
        "id": "PQVGd0pCMkOA"
      }
    },
    {
      "cell_type": "code",
      "source": [
        "from sklearn.model_selection import RepeatedStratifiedKFold\n",
        "from sklearn.model_selection import GridSearchCV"
      ],
      "metadata": {
        "id": "j9lWyEqHMmaQ"
      },
      "execution_count": 17,
      "outputs": []
    },
    {
      "cell_type": "code",
      "source": [
        "# define the model with default hyperparameters\n",
        "model = RandomForestClassifier()"
      ],
      "metadata": {
        "id": "FY2wcoXMMohR"
      },
      "execution_count": 42,
      "outputs": []
    },
    {
      "cell_type": "code",
      "source": [
        "# define the grid of values to search\n",
        "grid = dict()\n",
        "grid['n_estimators'] = [10, 50, 100, 500, 1000]\n",
        "grid['max_features'] = ['auto', 'sqrt', 'log2']\n",
        "grid['criterion'] = ['gini', 'entropy']"
      ],
      "metadata": {
        "id": "7JkXcjhjMtaR"
      },
      "execution_count": 43,
      "outputs": []
    },
    {
      "cell_type": "code",
      "source": [
        "# define the evaluation procedure\n",
        "cv = RepeatedStratifiedKFold(n_splits=10, n_repeats=3, random_state=1)"
      ],
      "metadata": {
        "id": "J29AVjUdMuQR"
      },
      "execution_count": 44,
      "outputs": []
    },
    {
      "cell_type": "code",
      "source": [
        "# define the grid search procedure\n",
        "grid_search = GridSearchCV(estimator=model, param_grid=grid, n_jobs=-1, cv=cv, scoring='f1', verbose=2)"
      ],
      "metadata": {
        "id": "F7vQimr9Mwwc"
      },
      "execution_count": 45,
      "outputs": []
    },
    {
      "cell_type": "code",
      "source": [
        "# execute the grid search\n",
        "grid_result = grid_search.fit(X_train, y_train.values.ravel())"
      ],
      "metadata": {
        "colab": {
          "base_uri": "https://localhost:8080/"
        },
        "id": "RwFdb4IeMzNJ",
        "outputId": "e0420879-8322-442e-f4e6-94cfbce0f92f"
      },
      "execution_count": 46,
      "outputs": [
        {
          "output_type": "stream",
          "name": "stdout",
          "text": [
            "Fitting 30 folds for each of 30 candidates, totalling 900 fits\n"
          ]
        }
      ]
    },
    {
      "cell_type": "code",
      "source": [
        "# summarize the best score and configuration\n",
        "print(\"Best F1 score: %f using %s\" % (grid_result.best_score_, grid_result.best_params_))"
      ],
      "metadata": {
        "colab": {
          "base_uri": "https://localhost:8080/"
        },
        "id": "2unZz7q8M040",
        "outputId": "be408b15-e93d-413a-bf19-2a9f042f82a3"
      },
      "execution_count": 47,
      "outputs": [
        {
          "output_type": "stream",
          "name": "stdout",
          "text": [
            "Best F1 score: 0.876555 using {'criterion': 'entropy', 'max_features': 'sqrt', 'n_estimators': 100}\n"
          ]
        }
      ]
    },
    {
      "cell_type": "markdown",
      "source": [
        "**Entrainement + Prédiction**"
      ],
      "metadata": {
        "id": "EgC8ikJ2PNTe"
      }
    },
    {
      "cell_type": "code",
      "source": [
        "model = RandomForestClassifier(criterion='entropy', max_features='sqrt' ,n_estimators=100)\n",
        "\n",
        "model.fit(X_train, y_train.values.ravel())\n",
        "y_preds = model.predict(X_test)\n",
        "\n",
        "print('F1 Score - RandomForestClassifier:', f1_score(y_test, y_preds)) "
      ],
      "metadata": {
        "colab": {
          "base_uri": "https://localhost:8080/"
        },
        "id": "U8mTX9sOM7oV",
        "outputId": "dbe618bf-1aed-4023-a478-ac2c95077717"
      },
      "execution_count": 48,
      "outputs": [
        {
          "output_type": "stream",
          "name": "stdout",
          "text": [
            "F1 Score - RandomForestClassifier: 0.890909090909091\n"
          ]
        }
      ]
    }
  ]
}