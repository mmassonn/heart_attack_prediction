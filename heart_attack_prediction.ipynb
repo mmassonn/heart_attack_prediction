{
  "nbformat": 4,
  "nbformat_minor": 0,
  "metadata": {
    "colab": {
      "name": "heart_attack_prediction.ipynb",
      "provenance": [],
      "collapsed_sections": [],
      "authorship_tag": "ABX9TyOHN2yHC9sSLQgTjsPIVR1x",
      "include_colab_link": true
    },
    "kernelspec": {
      "name": "python3",
      "display_name": "Python 3"
    },
    "language_info": {
      "name": "python"
    },
    "accelerator": "GPU"
  },
  "cells": [
    {
      "cell_type": "markdown",
      "metadata": {
        "id": "view-in-github",
        "colab_type": "text"
      },
      "source": [
        "<a href=\"https://colab.research.google.com/github/mmassonn/heart_attack_prediction/blob/main/heart_attack_prediction.ipynb\" target=\"_parent\"><img src=\"https://colab.research.google.com/assets/colab-badge.svg\" alt=\"Open In Colab\"/></a>"
      ]
    },
    {
      "cell_type": "markdown",
      "source": [
        "#Projet : Heart attack prediction\n"
      ],
      "metadata": {
        "id": "K3LOErIBmqzz"
      }
    },
    {
      "cell_type": "markdown",
      "source": [
        "##I. Définir l'objectif"
      ],
      "metadata": {
        "id": "ZkRltJ7ln75B"
      }
    },
    {
      "cell_type": "markdown",
      "source": [
        "Objectif : Prédiction du risque d’infartus à partir des données cliniques\n",
        "\n",
        "metrique : c-index"
      ],
      "metadata": {
        "id": "gFnr5xYinzgm"
      }
    },
    {
      "cell_type": "markdown",
      "source": [
        "##II. Importer les bibliothèques/framework"
      ],
      "metadata": {
        "id": "J9Qg48pzoJUl"
      }
    },
    {
      "cell_type": "code",
      "source": [
        "#import packages\n",
        "import numpy as np\n",
        "import pandas as pd\n",
        "import matplotlib.pyplot as plt\n",
        "import seaborn as sns\n",
        "from sklearn.model_selection import train_test_split"
      ],
      "metadata": {
        "id": "yyINha3KnDPR"
      },
      "execution_count": null,
      "outputs": []
    },
    {
      "cell_type": "code",
      "source": [
        "#import model packages\n",
        "from sklearn.tree import DecisionTreeClassifier\n",
        "from sklearn.ensemble import RandomForestClassifier, AdaBoostClassifier\n",
        "from sklearn.svm import SVC\n",
        "from sklearn.neighbors import KNeighborsClassifier\n",
        "from sklearn.pipeline import make_pipeline\n",
        "from sklearn.preprocessing import  StandardScaler"
      ],
      "metadata": {
        "id": "cVm_oL4wt-PK"
      },
      "execution_count": null,
      "outputs": []
    },
    {
      "cell_type": "code",
      "source": [
        "#import evaluation packages\n",
        "from sklearn.metrics import f1_score\n",
        "from sklearn.model_selection import learning_curve"
      ],
      "metadata": {
        "id": "Q0kzwTCsuIbd"
      },
      "execution_count": null,
      "outputs": []
    },
    {
      "cell_type": "code",
      "execution_count": null,
      "metadata": {
        "id": "MmINcNOPsJy-",
        "colab": {
          "base_uri": "https://localhost:8080/"
        },
        "outputId": "552bb13b-abe7-4d7c-f861-1edcd982ca33"
      },
      "outputs": [
        {
          "output_type": "stream",
          "name": "stdout",
          "text": [
            "Mounted at /content/drive\n"
          ]
        }
      ],
      "source": [
        "#Connect drive\n",
        "from google.colab import drive\n",
        "drive.mount('/content/drive')"
      ]
    },
    {
      "cell_type": "markdown",
      "source": [
        "##III. Load data"
      ],
      "metadata": {
        "id": "Bbj9iTcxoglC"
      }
    },
    {
      "cell_type": "code",
      "source": [
        "#load data\n",
        "df = pd.read_csv('drive/MyDrive/Projet_2022/heart_attack_prediction/dataset.csv')"
      ],
      "metadata": {
        "id": "l9FoPA8CowX3"
      },
      "execution_count": null,
      "outputs": []
    },
    {
      "cell_type": "markdown",
      "source": [
        "#IV. Pre-processing"
      ],
      "metadata": {
        "id": "tFveuHKjqnje"
      }
    },
    {
      "cell_type": "code",
      "source": [
        "#split Train and Test set  \n",
        "trainset, testset = train_test_split(df, test_size=0.2, random_state=0)"
      ],
      "metadata": {
        "id": "G7SIL-9hqzxv"
      },
      "execution_count": null,
      "outputs": []
    },
    {
      "cell_type": "code",
      "source": [
        "trainset['target'].value_counts()\n",
        "testset['target'].value_counts()"
      ],
      "metadata": {
        "id": "t0Mf4oCoq1gI"
      },
      "execution_count": null,
      "outputs": []
    },
    {
      "cell_type": "code",
      "source": [
        "#defined encodage, feature_engineering and imputation tools\n",
        "\n",
        "def make_standard_normal(df):\n",
        "    \n",
        "    # Remove skew by applying the log function to the train set, and to the test set\n",
        "    df= np.log(df)\n",
        "    \n",
        "    #calculate the mean and standard deviation of the training set\n",
        "    mean = df.mean(axis = 0)\n",
        "    stdev = df.std(axis = 0)\n",
        "    \n",
        "    # standardize the training set\n",
        "    df = (df-mean)/stdev\n",
        " \n",
        "    return df\n",
        "\n",
        "\n",
        "def imputation(df):   \n",
        "    df = df.dropna(axis=0)\n",
        "    return df\n",
        "\n",
        "#defined pre-processing    \n",
        "def preprocessing(df):\n",
        "    col=['age','trestbps', 'chol', 'thalach']\n",
        "    df[col] = df[col].apply(make_standard_normal)\n",
        "    df = imputation(df)\n",
        "    \n",
        "    X = df.drop('target', axis =1)\n",
        "    y = df['target']\n",
        "    \n",
        "    print(y.value_counts())\n",
        "    \n",
        "    return X,y"
      ],
      "metadata": {
        "id": "YGaOByatq5Ff"
      },
      "execution_count": null,
      "outputs": []
    },
    {
      "cell_type": "code",
      "source": [
        "#applied pre-processing\n",
        "X_train, y_train = preprocessing(trainset)\n",
        "X_test, y_test = preprocessing(testset)"
      ],
      "metadata": {
        "id": "I8D22uLeq7zj"
      },
      "execution_count": null,
      "outputs": []
    },
    {
      "cell_type": "markdown",
      "source": [
        "#V. Modelling"
      ],
      "metadata": {
        "id": "cLDdC_yRq8ne"
      }
    },
    {
      "cell_type": "code",
      "source": [
        "#pipelined pre-processor and model\n",
        "RandomForest = RandomForestClassifier (random_state = 0)\n",
        "AdaBoost = AdaBoostClassifier (random_state = 0)\n",
        "SVM = make_pipeline(StandardScaler(),SVC (probability=True))\n",
        "KNN = make_pipeline(StandardScaler(),KNeighborsClassifier ())"
      ],
      "metadata": {
        "id": "Q7iw_1gvrHW0"
      },
      "execution_count": null,
      "outputs": []
    },
    {
      "cell_type": "markdown",
      "source": [
        "#VI. Evaluation process"
      ],
      "metadata": {
        "id": "xF48BzYnrJuc"
      }
    },
    {
      "cell_type": "markdown",
      "source": [
        "##defined evaluation\n"
      ],
      "metadata": {
        "id": "TwHm6AZarX42"
      }
    },
    {
      "cell_type": "code",
      "source": [
        "#Evaluate the model using the C-index\n",
        "def cindex(y_true, scores):\n",
        "    n = len(y_true)\n",
        "    assert len(scores) == n\n",
        "    concordant = 0\n",
        "    permissible = 0\n",
        "    ties = 0 \n",
        "   # use two nested for loops to go through all unique pairs of patients\n",
        "    for i in range(n):\n",
        "        for j in range(i+1, n): #choose the range of j so that j>i\n",
        "            # Check if the pair is permissible (the patient outcomes are different)\n",
        "            if y_true[i] != y_true[j]:\n",
        "                # Count the pair if it's permissible\n",
        "                permissible += 1\n",
        "                # For permissible pairs, check if they are concordant or are ties\n",
        "                # check for ties in the score\n",
        "                if scores[i] == scores[j]:\n",
        "                    # count the tie\n",
        "                    ties += 1\n",
        "                    # if it's a tie, we don't need to check patient outcomes, continue to the top of the for loop.\n",
        "                    continue\n",
        "                # case 1: patient i doesn't get the disease, patient j does\n",
        "                if y_true[i] == 0 and y_true[j] == 1:\n",
        "                    # Check if patient i has a lower risk score than patient j\n",
        "                    if scores[i] < scores[j]:\n",
        "                        # count the concordant pair\n",
        "                        concordant += 1\n",
        "                    # Otherwise if patient i has a higher risk score, it's not a concordant pair.\n",
        "                    # Already checked for ties earlier\n",
        "                # case 2: patient i gets the disease, patient j does not\n",
        "                if y_true[i] == 1 and y_true[j] == 0:\n",
        "                    # Check if patient i has a higher risk score than patient j\n",
        "                    if scores[i] > scores[j]:\n",
        "                        #count the concordant pair\n",
        "                        concordant += 1\n",
        "                    # Otherwise if patient i has a lower risk score, it's not a concordant pair.\n",
        "                    # We already checked for ties earlier\n",
        "    # calculate the c-index using the count of permissible pairs, concordant pairs, and tied pairs.\n",
        "    c_index = (concordant + 0.5 * ties) / permissible\n",
        "    return c_index"
      ],
      "metadata": {
        "id": "6gAVcXM9rajL"
      },
      "execution_count": null,
      "outputs": []
    },
    {
      "cell_type": "markdown",
      "source": [
        "##defined evaluation model"
      ],
      "metadata": {
        "id": "fSEIWImHrf8M"
      }
    },
    {
      "cell_type": "code",
      "source": [
        "#defined evaluation model\n",
        "def evaluation(model):\n",
        "    model.fit(X_train, y_train) \n",
        "    y_train_preds = model.predict_proba(X_train)[:, 1]\n",
        "    print(cindex(y_train.values, y_train_preds))\n",
        "    \n",
        "    y_test_preds = model.predict_proba(X_test)[:, 1]\n",
        "    print(cindex(y_test.values, y_test_preds))\n",
        "       \n",
        "    N,train_score,val_score = learning_curve(model, X_train, y_train, cv=4, scoring ='f1') \n",
        "    plt.figure(figsize=(12,8))\n",
        "    plt.plot(N, train_score.mean(axis=1), label='train score')\n",
        "    plt.plot(N, val_score.mean(axis=1), label='val score')\n",
        "    plt.legend()  "
      ],
      "metadata": {
        "id": "n4sXBNeUreur"
      },
      "execution_count": null,
      "outputs": []
    },
    {
      "cell_type": "code",
      "source": [
        "#evaluated many models\n",
        "dict_of_models = {'RandomForest' : RandomForest,'AdaBoost' : AdaBoost,'SVM': SVM,'KNN': KNN}\n",
        "for name, model in dict_of_models.items():\n",
        "    print(name)\n",
        "    evaluation(model)"
      ],
      "metadata": {
        "id": "nOgOyaXnrojG"
      },
      "execution_count": null,
      "outputs": []
    }
  ]
}