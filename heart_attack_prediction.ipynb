{
  "nbformat": 4,
  "nbformat_minor": 0,
  "metadata": {
    "colab": {
      "name": "heart_attack_prediction.ipynb",
      "provenance": [],
      "collapsed_sections": [],
      "authorship_tag": "ABX9TyPrrHYfp7ZfkinmPH0NCaSB",
      "include_colab_link": true
    },
    "kernelspec": {
      "name": "python3",
      "display_name": "Python 3"
    },
    "language_info": {
      "name": "python"
    },
    "accelerator": "GPU"
  },
  "cells": [
    {
      "cell_type": "markdown",
      "metadata": {
        "id": "view-in-github",
        "colab_type": "text"
      },
      "source": [
        "<a href=\"https://colab.research.google.com/github/mmassonn/heart_attack_prediction/blob/main/heart_attack_prediction.ipynb\" target=\"_parent\"><img src=\"https://colab.research.google.com/assets/colab-badge.svg\" alt=\"Open In Colab\"/></a>"
      ]
    },
    {
      "cell_type": "markdown",
      "source": [
        "#Projet : Heart attack prediction\n"
      ],
      "metadata": {
        "id": "K3LOErIBmqzz"
      }
    },
    {
      "cell_type": "markdown",
      "source": [
        "##I. Définir l'objectif"
      ],
      "metadata": {
        "id": "ZkRltJ7ln75B"
      }
    },
    {
      "cell_type": "markdown",
      "source": [
        "Objectif : Prédiction du risque d’infartus à partir des données cliniques\n",
        "\n",
        "metrique : c-index"
      ],
      "metadata": {
        "id": "gFnr5xYinzgm"
      }
    },
    {
      "cell_type": "markdown",
      "source": [
        "##II. Importer les bibliothèques/framework"
      ],
      "metadata": {
        "id": "J9Qg48pzoJUl"
      }
    },
    {
      "cell_type": "code",
      "source": [
        "#import packages\n",
        "import numpy as np\n",
        "import pandas as pd\n",
        "import matplotlib.pyplot as plt\n",
        "import seaborn as sns"
      ],
      "metadata": {
        "id": "yyINha3KnDPR"
      },
      "execution_count": 12,
      "outputs": []
    },
    {
      "cell_type": "code",
      "execution_count": 13,
      "metadata": {
        "id": "MmINcNOPsJy-",
        "colab": {
          "base_uri": "https://localhost:8080/"
        },
        "outputId": "0cbf28c7-0b16-4638-dc28-ac9f34d61642"
      },
      "outputs": [
        {
          "output_type": "stream",
          "name": "stdout",
          "text": [
            "Drive already mounted at /content/drive; to attempt to forcibly remount, call drive.mount(\"/content/drive\", force_remount=True).\n"
          ]
        }
      ],
      "source": [
        "#Connect drive\n",
        "from google.colab import drive\n",
        "drive.mount('/content/drive')"
      ]
    },
    {
      "cell_type": "markdown",
      "source": [
        "##III. EDA(Exploration et analyse des données)"
      ],
      "metadata": {
        "id": "Bbj9iTcxoglC"
      }
    },
    {
      "cell_type": "code",
      "source": [
        "#load data\n",
        "df = pd.read_csv('drive/MyDrive/Projet_2022/heart_attack_prediction/dataset.csv')"
      ],
      "metadata": {
        "id": "l9FoPA8CowX3"
      },
      "execution_count": 16,
      "outputs": []
    },
    {
      "cell_type": "markdown",
      "source": [
        "###1.shape analysis"
      ],
      "metadata": {
        "id": "zboA8KPHpH8s"
      }
    },
    {
      "cell_type": "code",
      "source": [
        "#explore first fives rows ==> df values\n",
        "df.head()"
      ],
      "metadata": {
        "id": "hZOzwKNRpM2s",
        "colab": {
          "base_uri": "https://localhost:8080/",
          "height": 215
        },
        "outputId": "e13baff6-ba7b-4221-8b6f-634cf6ec00f6"
      },
      "execution_count": 17,
      "outputs": [
        {
          "output_type": "execute_result",
          "data": {
            "text/html": [
              "\n",
              "  <div id=\"df-87a74a25-fe9d-41e5-8fae-27e1b2dfde83\">\n",
              "    <div class=\"colab-df-container\">\n",
              "      <div>\n",
              "<style scoped>\n",
              "    .dataframe tbody tr th:only-of-type {\n",
              "        vertical-align: middle;\n",
              "    }\n",
              "\n",
              "    .dataframe tbody tr th {\n",
              "        vertical-align: top;\n",
              "    }\n",
              "\n",
              "    .dataframe thead th {\n",
              "        text-align: right;\n",
              "    }\n",
              "</style>\n",
              "<table border=\"1\" class=\"dataframe\">\n",
              "  <thead>\n",
              "    <tr style=\"text-align: right;\">\n",
              "      <th></th>\n",
              "      <th>Age</th>\n",
              "      <th>Sex</th>\n",
              "      <th>ChestPainType</th>\n",
              "      <th>RestingBP</th>\n",
              "      <th>Cholesterol</th>\n",
              "      <th>FastingBS</th>\n",
              "      <th>RestingECG</th>\n",
              "      <th>MaxHR</th>\n",
              "      <th>ExerciseAngina</th>\n",
              "      <th>Oldpeak</th>\n",
              "      <th>ST_Slope</th>\n",
              "      <th>HeartDisease</th>\n",
              "    </tr>\n",
              "  </thead>\n",
              "  <tbody>\n",
              "    <tr>\n",
              "      <th>0</th>\n",
              "      <td>40</td>\n",
              "      <td>M</td>\n",
              "      <td>ATA</td>\n",
              "      <td>140</td>\n",
              "      <td>289</td>\n",
              "      <td>0</td>\n",
              "      <td>Normal</td>\n",
              "      <td>172</td>\n",
              "      <td>N</td>\n",
              "      <td>0.0</td>\n",
              "      <td>Up</td>\n",
              "      <td>0</td>\n",
              "    </tr>\n",
              "    <tr>\n",
              "      <th>1</th>\n",
              "      <td>49</td>\n",
              "      <td>F</td>\n",
              "      <td>NAP</td>\n",
              "      <td>160</td>\n",
              "      <td>180</td>\n",
              "      <td>0</td>\n",
              "      <td>Normal</td>\n",
              "      <td>156</td>\n",
              "      <td>N</td>\n",
              "      <td>1.0</td>\n",
              "      <td>Flat</td>\n",
              "      <td>1</td>\n",
              "    </tr>\n",
              "    <tr>\n",
              "      <th>2</th>\n",
              "      <td>37</td>\n",
              "      <td>M</td>\n",
              "      <td>ATA</td>\n",
              "      <td>130</td>\n",
              "      <td>283</td>\n",
              "      <td>0</td>\n",
              "      <td>ST</td>\n",
              "      <td>98</td>\n",
              "      <td>N</td>\n",
              "      <td>0.0</td>\n",
              "      <td>Up</td>\n",
              "      <td>0</td>\n",
              "    </tr>\n",
              "    <tr>\n",
              "      <th>3</th>\n",
              "      <td>48</td>\n",
              "      <td>F</td>\n",
              "      <td>ASY</td>\n",
              "      <td>138</td>\n",
              "      <td>214</td>\n",
              "      <td>0</td>\n",
              "      <td>Normal</td>\n",
              "      <td>108</td>\n",
              "      <td>Y</td>\n",
              "      <td>1.5</td>\n",
              "      <td>Flat</td>\n",
              "      <td>1</td>\n",
              "    </tr>\n",
              "    <tr>\n",
              "      <th>4</th>\n",
              "      <td>54</td>\n",
              "      <td>M</td>\n",
              "      <td>NAP</td>\n",
              "      <td>150</td>\n",
              "      <td>195</td>\n",
              "      <td>0</td>\n",
              "      <td>Normal</td>\n",
              "      <td>122</td>\n",
              "      <td>N</td>\n",
              "      <td>0.0</td>\n",
              "      <td>Up</td>\n",
              "      <td>0</td>\n",
              "    </tr>\n",
              "  </tbody>\n",
              "</table>\n",
              "</div>\n",
              "      <button class=\"colab-df-convert\" onclick=\"convertToInteractive('df-87a74a25-fe9d-41e5-8fae-27e1b2dfde83')\"\n",
              "              title=\"Convert this dataframe to an interactive table.\"\n",
              "              style=\"display:none;\">\n",
              "        \n",
              "  <svg xmlns=\"http://www.w3.org/2000/svg\" height=\"24px\"viewBox=\"0 0 24 24\"\n",
              "       width=\"24px\">\n",
              "    <path d=\"M0 0h24v24H0V0z\" fill=\"none\"/>\n",
              "    <path d=\"M18.56 5.44l.94 2.06.94-2.06 2.06-.94-2.06-.94-.94-2.06-.94 2.06-2.06.94zm-11 1L8.5 8.5l.94-2.06 2.06-.94-2.06-.94L8.5 2.5l-.94 2.06-2.06.94zm10 10l.94 2.06.94-2.06 2.06-.94-2.06-.94-.94-2.06-.94 2.06-2.06.94z\"/><path d=\"M17.41 7.96l-1.37-1.37c-.4-.4-.92-.59-1.43-.59-.52 0-1.04.2-1.43.59L10.3 9.45l-7.72 7.72c-.78.78-.78 2.05 0 2.83L4 21.41c.39.39.9.59 1.41.59.51 0 1.02-.2 1.41-.59l7.78-7.78 2.81-2.81c.8-.78.8-2.07 0-2.86zM5.41 20L4 18.59l7.72-7.72 1.47 1.35L5.41 20z\"/>\n",
              "  </svg>\n",
              "      </button>\n",
              "      \n",
              "  <style>\n",
              "    .colab-df-container {\n",
              "      display:flex;\n",
              "      flex-wrap:wrap;\n",
              "      gap: 12px;\n",
              "    }\n",
              "\n",
              "    .colab-df-convert {\n",
              "      background-color: #E8F0FE;\n",
              "      border: none;\n",
              "      border-radius: 50%;\n",
              "      cursor: pointer;\n",
              "      display: none;\n",
              "      fill: #1967D2;\n",
              "      height: 32px;\n",
              "      padding: 0 0 0 0;\n",
              "      width: 32px;\n",
              "    }\n",
              "\n",
              "    .colab-df-convert:hover {\n",
              "      background-color: #E2EBFA;\n",
              "      box-shadow: 0px 1px 2px rgba(60, 64, 67, 0.3), 0px 1px 3px 1px rgba(60, 64, 67, 0.15);\n",
              "      fill: #174EA6;\n",
              "    }\n",
              "\n",
              "    [theme=dark] .colab-df-convert {\n",
              "      background-color: #3B4455;\n",
              "      fill: #D2E3FC;\n",
              "    }\n",
              "\n",
              "    [theme=dark] .colab-df-convert:hover {\n",
              "      background-color: #434B5C;\n",
              "      box-shadow: 0px 1px 3px 1px rgba(0, 0, 0, 0.15);\n",
              "      filter: drop-shadow(0px 1px 2px rgba(0, 0, 0, 0.3));\n",
              "      fill: #FFFFFF;\n",
              "    }\n",
              "  </style>\n",
              "\n",
              "      <script>\n",
              "        const buttonEl =\n",
              "          document.querySelector('#df-87a74a25-fe9d-41e5-8fae-27e1b2dfde83 button.colab-df-convert');\n",
              "        buttonEl.style.display =\n",
              "          google.colab.kernel.accessAllowed ? 'block' : 'none';\n",
              "\n",
              "        async function convertToInteractive(key) {\n",
              "          const element = document.querySelector('#df-87a74a25-fe9d-41e5-8fae-27e1b2dfde83');\n",
              "          const dataTable =\n",
              "            await google.colab.kernel.invokeFunction('convertToInteractive',\n",
              "                                                     [key], {});\n",
              "          if (!dataTable) return;\n",
              "\n",
              "          const docLinkHtml = 'Like what you see? Visit the ' +\n",
              "            '<a target=\"_blank\" href=https://colab.research.google.com/notebooks/data_table.ipynb>data table notebook</a>'\n",
              "            + ' to learn more about interactive tables.';\n",
              "          element.innerHTML = '';\n",
              "          dataTable['output_type'] = 'display_data';\n",
              "          await google.colab.output.renderOutput(dataTable, element);\n",
              "          const docLink = document.createElement('div');\n",
              "          docLink.innerHTML = docLinkHtml;\n",
              "          element.appendChild(docLink);\n",
              "        }\n",
              "      </script>\n",
              "    </div>\n",
              "  </div>\n",
              "  "
            ],
            "text/plain": [
              "   Age Sex ChestPainType  RestingBP  Cholesterol  FastingBS RestingECG  MaxHR  \\\n",
              "0   40   M           ATA        140          289          0     Normal    172   \n",
              "1   49   F           NAP        160          180          0     Normal    156   \n",
              "2   37   M           ATA        130          283          0         ST     98   \n",
              "3   48   F           ASY        138          214          0     Normal    108   \n",
              "4   54   M           NAP        150          195          0     Normal    122   \n",
              "\n",
              "  ExerciseAngina  Oldpeak ST_Slope  HeartDisease  \n",
              "0              N      0.0       Up             0  \n",
              "1              N      1.0     Flat             1  \n",
              "2              N      0.0       Up             0  \n",
              "3              Y      1.5     Flat             1  \n",
              "4              N      0.0       Up             0  "
            ]
          },
          "metadata": {},
          "execution_count": 17
        }
      ]
    },
    {
      "cell_type": "markdown",
      "source": [
        "###Les caractériqtiques sont les suivantes :\n",
        "\n",
        "Age: age du patient [années]\n",
        "\n",
        "Sex: sex du patient [M: Homme, F: Femme]\n",
        "\n",
        "ChestPainType: type de douleur thoracique [TA: Angine typique, ATA: Angine atypique, NAP: Douleur non angineuse, ASY: Asymptomatique]\n",
        "\n",
        "RestingBP: tension artérielle au repos [mm Hg]\n",
        "\n",
        "Cholesterol: cholestérol sérique [mm/dl]\n",
        "\n",
        "FastingBS: glycémie à jeun [1: si FastingBS > 120 mg/dl, 0: autre]\n",
        "\n",
        "RestingECG: résultats de l'électrocardiogramme au repos [Normal: Normal, ST: ayant une anomalie de l'onde ST-T (T inversions d'ondes et/ou ST élevation ou dépression > 0.05 mV), LVH: montrant une hypertrophie ventriculaire gauche probable ou certaine par le critére 'Estes']\n",
        "\n",
        "MaxHR: fréquence cardiaque maximale atteinte [Valeur numérique entre 60 et 202]\n",
        "\n",
        "ExerciseAngina: angine induite par l'effort [Y: OUI, N: NON]\n",
        "\n",
        "Oldpeak: oldpeak = ST [Valeur numérique mesurée en dépression]\n",
        "\n",
        "ST_Slope: la pente du segment ST d'effort maximal [Up: ascendant, Flat: plat, Down: descendant]\n",
        "\n",
        "HeartDisease: Cardiopathie [1: OUI, 0: NON]"
      ],
      "metadata": {
        "id": "ZGXb306CYAfl"
      }
    },
    {
      "cell_type": "markdown",
      "source": [
        "target identification : target"
      ],
      "metadata": {
        "id": "mJpCAeNcpPcc"
      }
    },
    {
      "cell_type": "code",
      "source": [
        "#shape :\n",
        "df.shape "
      ],
      "metadata": {
        "id": "H9LFLdIvpSBr",
        "colab": {
          "base_uri": "https://localhost:8080/"
        },
        "outputId": "dfcc42c5-fbc7-472f-83b6-b84115870f7b"
      },
      "execution_count": 18,
      "outputs": [
        {
          "output_type": "execute_result",
          "data": {
            "text/plain": [
              "(918, 12)"
            ]
          },
          "metadata": {},
          "execution_count": 18
        }
      ]
    },
    {
      "cell_type": "markdown",
      "source": [
        "Nombre de lignes = 918 patients\n",
        "\n",
        "Nombre de colonnes = 11 caractéristiques + 1 cible\n",
        "\n",
        "Cible = Cardiopathie\n",
        "\n"
      ],
      "metadata": {
        "id": "NuxpPahydM1X"
      }
    },
    {
      "cell_type": "code",
      "source": [
        "#variable types : int64=13, float64=1\n",
        "df.dtypes.value_counts()"
      ],
      "metadata": {
        "id": "rH06uj2fpeKF",
        "colab": {
          "base_uri": "https://localhost:8080/"
        },
        "outputId": "d243c76b-abb2-4a97-9219-aa69552b0b80"
      },
      "execution_count": 19,
      "outputs": [
        {
          "output_type": "execute_result",
          "data": {
            "text/plain": [
              "int64      6\n",
              "object     5\n",
              "float64    1\n",
              "dtype: int64"
            ]
          },
          "metadata": {},
          "execution_count": 19
        }
      ]
    },
    {
      "cell_type": "code",
      "source": [
        "#Nan values   \n",
        "sns.heatmap(df.isna(), cbar=False)"
      ],
      "metadata": {
        "id": "7wS5_fMZpgSz",
        "colab": {
          "base_uri": "https://localhost:8080/",
          "height": 355
        },
        "outputId": "ea6355b4-6cb3-4b42-81e3-90136726a965"
      },
      "execution_count": 20,
      "outputs": [
        {
          "output_type": "execute_result",
          "data": {
            "text/plain": [
              "<matplotlib.axes._subplots.AxesSubplot at 0x7f60d4eb1410>"
            ]
          },
          "metadata": {},
          "execution_count": 20
        },
        {
          "output_type": "display_data",
          "data": {
            "image/png": "[encoded data removed]",
            "text/plain": [
              "<Figure size 432x288 with 1 Axes>"
            ]
          },
          "metadata": {
            "needs_background": "light"
          }
        }
      ]
    },
    {
      "cell_type": "markdown",
      "source": [
        "Il n'y a pas de valeur manquante."
      ],
      "metadata": {
        "id": "c-s13TT1eRId"
      }
    },
    {
      "cell_type": "markdown",
      "source": [
        "###2.data analysis"
      ],
      "metadata": {
        "id": "3YtoTCh4plDW"
      }
    },
    {
      "cell_type": "code",
      "source": [
        "#target vizualisation\n",
        "df['HeartDisease'].value_counts(normalize = True)"
      ],
      "metadata": {
        "id": "wvshqP_lpw9F",
        "colab": {
          "base_uri": "https://localhost:8080/"
        },
        "outputId": "46322f21-42a8-425c-9d31-b5aa02a88d8c"
      },
      "execution_count": 21,
      "outputs": [
        {
          "output_type": "execute_result",
          "data": {
            "text/plain": [
              "1    0.553377\n",
              "0    0.446623\n",
              "Name: HeartDisease, dtype: float64"
            ]
          },
          "metadata": {},
          "execution_count": 21
        }
      ]
    },
    {
      "cell_type": "markdown",
      "source": [
        "Il y a 55% de patients atteint de cardiopathie et 45% de patients non atteint de cardiopathie. La base de donnée est équilibrée."
      ],
      "metadata": {
        "id": "tiUMcJYVefJd"
      }
    },
    {
      "cell_type": "markdown",
      "source": [
        "### RELATION : VARIABLE DISTRIBUTIONS"
      ],
      "metadata": {
        "id": "DQoLwiO_p7sK"
      }
    },
    {
      "cell_type": "code",
      "source": [
        "#continue variables histograms : normalized\n",
        "for col in df:\n",
        "    plt.figure()\n",
        "    sns.distplot(df[col])"
      ],
      "metadata": {
        "id": "BL_vgMM2qHL1"
      },
      "execution_count": null,
      "outputs": []
    },
    {
      "cell_type": "markdown",
      "source": [
        "###RELATION : TARGET-VARIABLE"
      ],
      "metadata": {
        "id": "E6H7WXkHqJl7"
      }
    },
    {
      "cell_type": "code",
      "source": [
        "#created positive and negative under set\n",
        "positive_df = df[df['target'] == 1]   \n",
        "negative_df = df[df['target'] == 0]   "
      ],
      "metadata": {
        "id": "6sQwxRV3qL33"
      },
      "execution_count": null,
      "outputs": []
    },
    {
      "cell_type": "code",
      "source": [
        "#created positive and negative under set\n",
        "features_df = df.drop('target', axis=1) "
      ],
      "metadata": {
        "id": "xjjlIoM-qOTx"
      },
      "execution_count": null,
      "outputs": []
    },
    {
      "cell_type": "code",
      "source": [
        "#target/feature_df : sex, thalach, restecg, slope, thal exang differents \n",
        "for col in features_df:\n",
        "    plt.figure()\n",
        "    sns.distplot(positive_df[col], label='positive')\n",
        "    sns.distplot(negative_df[col], label = 'negative')\n",
        "    plt.legend()  "
      ],
      "metadata": {
        "id": "juQe30Y8qQP4"
      },
      "execution_count": null,
      "outputs": []
    },
    {
      "cell_type": "markdown",
      "source": [
        "###RELATION : VARIABLE-VARIABLE"
      ],
      "metadata": {
        "id": "WhAU7OxxqSHE"
      }
    },
    {
      "cell_type": "markdown",
      "source": [
        "NULL HYPOTHESIS (H0):\n",
        "\n",
        "Les individus ayant une crise cardiaque ont  une fréquence cardiaque maximale atteinte (thalach) significativement différents\n",
        "H0 = la fréquence cardiaque maximale atteinte est égal chez les individus positifs et négatifs.\n"
      ],
      "metadata": {
        "id": "JHcIcU2wqXE0"
      }
    },
    {
      "cell_type": "code",
      "source": [
        "#import packages \n",
        "from scipy.stats import ttest_ind"
      ],
      "metadata": {
        "id": "AC8b3UxWqdVI"
      },
      "execution_count": null,
      "outputs": []
    },
    {
      "cell_type": "code",
      "source": [
        "#normalement autant de positif que de négatif mais ce n'est pas le cas\n",
        "positive_df.shape\n",
        "negative_df.shape"
      ],
      "metadata": {
        "id": "aCCa140TqgCb"
      },
      "execution_count": null,
      "outputs": []
    },
    {
      "cell_type": "code",
      "source": [
        "balanced_neg = positive_df.sample(negative_df.shape[0])"
      ],
      "metadata": {
        "id": "6Ef7u6Cxqh91"
      },
      "execution_count": null,
      "outputs": []
    },
    {
      "cell_type": "code",
      "source": [
        "#defined t-test\n",
        "def t_test(col):\n",
        "    alpha =0.02\n",
        "    stat, p = ttest_ind(balanced_neg[col], positive_df[col])\n",
        "    if p< alpha:\n",
        "        return 'HO rejetée'\n",
        "    else: \n",
        "        return 0\n",
        "\n",
        "for col in features_df :\n",
        "    print (f'{col :-<50} {t_test(col)}')"
      ],
      "metadata": {
        "id": "l7t-rRqbqkm4"
      },
      "execution_count": null,
      "outputs": []
    },
    {
      "cell_type": "markdown",
      "source": [
        "#IV. Pre-processing"
      ],
      "metadata": {
        "id": "tFveuHKjqnje"
      }
    },
    {
      "cell_type": "code",
      "source": [
        "#import packages     \n",
        "from sklearn.model_selection import train_test_split"
      ],
      "metadata": {
        "id": "TXOGijbXqx1O"
      },
      "execution_count": null,
      "outputs": []
    },
    {
      "cell_type": "code",
      "source": [
        "#split Train and Test set  \n",
        "trainset, testset = train_test_split(df, test_size=0.2, random_state=0)"
      ],
      "metadata": {
        "id": "G7SIL-9hqzxv"
      },
      "execution_count": null,
      "outputs": []
    },
    {
      "cell_type": "code",
      "source": [
        "trainset['target'].value_counts()\n",
        "testset['target'].value_counts()"
      ],
      "metadata": {
        "id": "t0Mf4oCoq1gI"
      },
      "execution_count": null,
      "outputs": []
    },
    {
      "cell_type": "code",
      "source": [
        "#defined encodage, feature_engineering and imputation tools\n",
        "\n",
        "def make_standard_normal(df):\n",
        "    \n",
        "    # Remove skew by applying the log function to the train set, and to the test set\n",
        "    df= np.log(df)\n",
        "    \n",
        "    #calculate the mean and standard deviation of the training set\n",
        "    mean = df.mean(axis = 0)\n",
        "    stdev = df.std(axis = 0)\n",
        "    \n",
        "    # standardize the training set\n",
        "    df = (df-mean)/stdev\n",
        " \n",
        "    return df\n",
        "\n",
        "\n",
        "def imputation(df):   \n",
        "    df = df.dropna(axis=0)\n",
        "    return df\n",
        "\n",
        "#defined pre-processing    \n",
        "def preprocessing(df):\n",
        "    col=['age','trestbps', 'chol', 'thalach']\n",
        "    df[col] = df[col].apply(make_standard_normal)\n",
        "    df = imputation(df)\n",
        "    \n",
        "    X = df.drop('target', axis =1)\n",
        "    y = df['target']\n",
        "    \n",
        "    print(y.value_counts())\n",
        "    \n",
        "    return X,y"
      ],
      "metadata": {
        "id": "YGaOByatq5Ff"
      },
      "execution_count": null,
      "outputs": []
    },
    {
      "cell_type": "code",
      "source": [
        "#applied pre-processing\n",
        "X_train, y_train = preprocessing(trainset)\n",
        "X_test, y_test = preprocessing(testset)"
      ],
      "metadata": {
        "id": "I8D22uLeq7zj"
      },
      "execution_count": null,
      "outputs": []
    },
    {
      "cell_type": "markdown",
      "source": [
        "#V. Modelling"
      ],
      "metadata": {
        "id": "cLDdC_yRq8ne"
      }
    },
    {
      "cell_type": "code",
      "source": [
        "#import modules\n",
        "from sklearn.tree import DecisionTreeClassifier\n",
        "from sklearn.ensemble import RandomForestClassifier, AdaBoostClassifier\n",
        "from sklearn.svm import SVC\n",
        "from sklearn.neighbors import KNeighborsClassifier\n",
        "from sklearn.pipeline import make_pipeline\n",
        "from sklearn.preprocessing import  StandardScaler"
      ],
      "metadata": {
        "id": "fnR_kpw4q_8A"
      },
      "execution_count": null,
      "outputs": []
    },
    {
      "cell_type": "code",
      "source": [
        "#pipelined pre-processor and model\n",
        "RandomForest = RandomForestClassifier (random_state = 0)\n",
        "AdaBoost = AdaBoostClassifier (random_state = 0)\n",
        "SVM = make_pipeline(StandardScaler(),SVC (probability=True))\n",
        "KNN = make_pipeline(StandardScaler(),KNeighborsClassifier ())"
      ],
      "metadata": {
        "id": "Q7iw_1gvrHW0"
      },
      "execution_count": null,
      "outputs": []
    },
    {
      "cell_type": "markdown",
      "source": [
        "#VI. Evaluation process"
      ],
      "metadata": {
        "id": "xF48BzYnrJuc"
      }
    },
    {
      "cell_type": "code",
      "source": [
        "#import modules\n",
        "from sklearn.metrics import f1_score\n",
        "from sklearn.model_selection import learning_curve"
      ],
      "metadata": {
        "id": "LujqFebwrUZc"
      },
      "execution_count": null,
      "outputs": []
    },
    {
      "cell_type": "markdown",
      "source": [
        "##defined evaluation\n"
      ],
      "metadata": {
        "id": "TwHm6AZarX42"
      }
    },
    {
      "cell_type": "code",
      "source": [
        "#Evaluate the model using the C-index\n",
        "def cindex(y_true, scores):\n",
        "    n = len(y_true)\n",
        "    assert len(scores) == n\n",
        "    concordant = 0\n",
        "    permissible = 0\n",
        "    ties = 0 \n",
        "   # use two nested for loops to go through all unique pairs of patients\n",
        "    for i in range(n):\n",
        "        for j in range(i+1, n): #choose the range of j so that j>i\n",
        "            # Check if the pair is permissible (the patient outcomes are different)\n",
        "            if y_true[i] != y_true[j]:\n",
        "                # Count the pair if it's permissible\n",
        "                permissible += 1\n",
        "                # For permissible pairs, check if they are concordant or are ties\n",
        "                # check for ties in the score\n",
        "                if scores[i] == scores[j]:\n",
        "                    # count the tie\n",
        "                    ties += 1\n",
        "                    # if it's a tie, we don't need to check patient outcomes, continue to the top of the for loop.\n",
        "                    continue\n",
        "                # case 1: patient i doesn't get the disease, patient j does\n",
        "                if y_true[i] == 0 and y_true[j] == 1:\n",
        "                    # Check if patient i has a lower risk score than patient j\n",
        "                    if scores[i] < scores[j]:\n",
        "                        # count the concordant pair\n",
        "                        concordant += 1\n",
        "                    # Otherwise if patient i has a higher risk score, it's not a concordant pair.\n",
        "                    # Already checked for ties earlier\n",
        "                # case 2: patient i gets the disease, patient j does not\n",
        "                if y_true[i] == 1 and y_true[j] == 0:\n",
        "                    # Check if patient i has a higher risk score than patient j\n",
        "                    if scores[i] > scores[j]:\n",
        "                        #count the concordant pair\n",
        "                        concordant += 1\n",
        "                    # Otherwise if patient i has a lower risk score, it's not a concordant pair.\n",
        "                    # We already checked for ties earlier\n",
        "    # calculate the c-index using the count of permissible pairs, concordant pairs, and tied pairs.\n",
        "    c_index = (concordant + 0.5 * ties) / permissible\n",
        "    return c_index"
      ],
      "metadata": {
        "id": "6gAVcXM9rajL"
      },
      "execution_count": null,
      "outputs": []
    },
    {
      "cell_type": "markdown",
      "source": [
        "##defined evaluation model"
      ],
      "metadata": {
        "id": "fSEIWImHrf8M"
      }
    },
    {
      "cell_type": "code",
      "source": [
        "#defined evaluation model\n",
        "def evaluation(model):\n",
        "    model.fit(X_train, y_train) \n",
        "    y_train_preds = model.predict_proba(X_train)[:, 1]\n",
        "    print(cindex(y_train.values, y_train_preds))\n",
        "    \n",
        "    y_test_preds = model.predict_proba(X_test)[:, 1]\n",
        "    print(cindex(y_test.values, y_test_preds))\n",
        "       \n",
        "    N,train_score,val_score = learning_curve(model, X_train, y_train, cv=4, scoring ='f1') \n",
        "    plt.figure(figsize=(12,8))\n",
        "    plt.plot(N, train_score.mean(axis=1), label='train score')\n",
        "    plt.plot(N, val_score.mean(axis=1), label='val score')\n",
        "    plt.legend()  "
      ],
      "metadata": {
        "id": "n4sXBNeUreur"
      },
      "execution_count": null,
      "outputs": []
    },
    {
      "cell_type": "code",
      "source": [
        "#evaluated many models\n",
        "dict_of_models = {'RandomForest' : RandomForest,'AdaBoost' : AdaBoost,'SVM': SVM,'KNN': KNN}\n",
        "for name, model in dict_of_models.items():\n",
        "    print(name)\n",
        "    evaluation(model)"
      ],
      "metadata": {
        "id": "nOgOyaXnrojG"
      },
      "execution_count": null,
      "outputs": []
    }
  ]
}